{
 "cells": [
  {
   "cell_type": "markdown",
   "id": "executed-replication",
   "metadata": {},
   "source": [
    "**Lemma (continuous functions pass through every intermediate value):**\n",
    "\n",
    "Let $f$ be continuous on $[a, b]$. Then, if $y \\in [min(f(a), f(b)), max(f(a), f(b))]$, $\\exists x \\in [a, b]$ such that $f(x) = y$.\n",
    "\n",
    "**Proof:**\n",
    "\n",
    "First off, if $y = f(a)$ or $y = f(b)$, we're done immediately.\n",
    "\n",
    "Otherwise, either $f(a) < f(b)$ or $f(b) < f(a)$, as if they're equal then we must have $y = f(a) = f(b)$.\n",
    "\n",
    "First, we'll assume $f(a) < f(b)$ (so $y \\in (f(a), f(b))$. Let\n",
    "\n",
    "$$\\alpha = \\sup\\{x\\in[a, b] : f(x) < y\\}.$$\n",
    "\n",
    "Note, $\\alpha$ is finite because the set is bounded and non-empty (it contains $a$). Now, since $\\alpha$ is a supremum of a non-empty set, there exists a sequence $\\{x_k\\}$ of elements of $\\{x\\in[a, b] : f(x) < y\\}$ such that $x_k\\rightarrow\\alpha$. Since $f$ is continuous, this implies\n",
    "\n",
    "$$f(\\alpha) = \\lim_{k\\rightarrow\\infty}f(x_k) \\leq y.$$\n",
    "\n",
    "In particular, this means that $\\alpha \\neq b$, as if it did, then $f(b) = f(\\alpha) \\leq y$, which contradictions our assumption that $y\\in(f(a), f(b))$. This means that $\\alpha \\in [a, b)$, and $f$ will be defined and continuous (eventually) on a sequence which approaches $\\alpha$ from above.\n",
    "\n",
    "Similarly, since $\\{\\alpha + \\frac1k\\}_k$ is a sequence which converges to $\\alpha$ as $k\\rightarrow\\infty$, and since $\\alpha + \\frac1k > \\alpha$ implies $\\alpha + \\frac1k \\nless y$ (because $\\alpha$ is the supremum of such points), i.e., $\\alpha + \\frac1k \\geq y$, the continuity of $f$ implies\n",
    "\n",
    "$$f(\\alpha) = \\lim_{k\\rightarrow\\infty}f\\left(\\alpha + \\frac1k\\right) \\geq y/$$\n",
    "\n",
    "Taken together, these two statements imply $f(\\alpha) = y$. Since we already knew $\\alpha \\in [a, b]$, the claim is proved in this case.\n",
    "\n",
    "The case in which $f(a) > f(b)$ (meaning $y \\in (f(b), f(a))$) is analagous, except then\n",
    "\n",
    "$$\\alpha = \\inf\\{x\\in[a, b] : f(x) < y\\}.$$\n",
    "\n",
    "$\\alpha$ is finite because this set is also bounded and non-empty (it contains $b$). Because $\\alpha$ is an infinum, there is a sequence in $[a, b]$ of elements $x_k$ such that $f(x_k) < y$ which converge to $\\alpha$, so the continuity of $f$ implies $f(\\alpha) \\leq y$.\n",
    "\n",
    "Similarly, since $\\alpha$ can't equal $a$ (as then $f(a) = f(\\alpha) \\leq y$), the sequence $\\{\\alpha - \\frac1k\\} \\subset [a, b]$ for large enough $k$, and since the elements of those sequences are all lower bounds for the set of $x$ such that $f(x) < y$, we must have that $f(x_k) \\geq y$. And so the continuity of $f$ implies $f(\\alpha) \\geq y$, and thus $f(\\alpha) = y$, $\\alpha \\in [a, b]$, as claimed. $\\blacksquare$"
   ]
  },
  {
   "cell_type": "markdown",
   "id": "cathedral-raise",
   "metadata": {},
   "source": [
    "**Corollary:**\n",
    "\n",
    "Let $f$ be continuous on $[a, b]$. Then Then, if $y \\in (min(f(a), f(b)), max(f(a), f(b)))$, $\\exists x \\in (a, b)$ such that $f(x) = y$.\n",
    "\n",
    "**Proof:**\n",
    "\n",
    "By the lemma, since $y \\in (min(f(a), f(b)), max(f(a), f(b)) \\subset [min(f(a), f(b)), max(f(a), f(b)]$, $\\exists x \\in [a, b]$ such that $f(x) = y$.\n",
    "\n",
    "Since $f(x) = y \\neq f(a)$, $x \\neq a$, and similarly since $f(x) = y \\neq f(b)$, $x \\neq b$. Hence, $x \\in (a, b)$ as claimed. $\\blacksquare$"
   ]
  },
  {
   "cell_type": "markdown",
   "id": "marked-model",
   "metadata": {},
   "source": [
    "Note, in case you were wondering we really do need $f$ to be continuous on all of $[a, b]$, and not just $(a, b)$. First off, for the proof of the lemma, if $f$ is not continuous as $a$ or $b$, we could have $\\alpha = a$ or $b$ (even if $y \\in (f(a), f(b)$), so in principle we would need a different proof in we had only continuity on $(a, b)$. However, there's no point searching for such a proof as none exists, as a counter example is easy to come by. Consider the below graph"
   ]
  },
  {
   "cell_type": "code",
   "execution_count": 10,
   "id": "dramatic-celebrity",
   "metadata": {
    "tags": [
     "example"
    ]
   },
   "outputs": [
    {
     "ename": "SyntaxError",
     "evalue": "invalid syntax (<ipython-input-10-7e17f0ff8f31>, line 1)",
     "output_type": "error",
     "traceback": [
      "\u001b[0;36m  File \u001b[0;32m\"<ipython-input-10-7e17f0ff8f31>\"\u001b[0;36m, line \u001b[0;32m1\u001b[0m\n\u001b[0;31m    ```{toggle}\u001b[0m\n\u001b[0m    ^\u001b[0m\n\u001b[0;31mSyntaxError\u001b[0m\u001b[0;31m:\u001b[0m invalid syntax\n"
     ]
    }
   ],
   "source": [
    "```{toggle}\n",
    "import matplotlib.pyplot as plt\n",
    "\n",
    "plt.plot([1, 3], [1, 3], \"o\", color='k')\n",
    "plt.plot([1, 3], [2, 2], \"o\", fillstyle='none', color='k')\n",
    "plt.plot([1, 3], [2, 2], color='k')\n",
    "plt.show()\n",
    "```"
   ]
  },
  {
   "cell_type": "code",
   "execution_count": null,
   "id": "beautiful-elder",
   "metadata": {},
   "outputs": [],
   "source": []
  }
 ],
 "metadata": {
  "celltoolbar": "Tags",
  "kernelspec": {
   "display_name": "Python 3",
   "language": "python",
   "name": "python3"
  },
  "language_info": {
   "codemirror_mode": {
    "name": "ipython",
    "version": 3
   },
   "file_extension": ".py",
   "mimetype": "text/x-python",
   "name": "python",
   "nbconvert_exporter": "python",
   "pygments_lexer": "ipython3",
   "version": "3.8.5"
  }
 },
 "nbformat": 4,
 "nbformat_minor": 5
}
