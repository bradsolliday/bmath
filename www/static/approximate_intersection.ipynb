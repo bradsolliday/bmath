{
 "cells": [
  {
   "cell_type": "markdown",
   "id": "cognitive-democracy",
   "metadata": {},
   "source": [
    "### Introduction\n",
    "\n",
    "It's easy to ask what the distance between two points is, but what is the distance between two lines? Of course, this will depend on what we mean by distance in this case. So, more precisely, what's the smallest distance between any point on one line and a point on the other? Moreover, how do we find these closest points?\n",
    "\n",
    "Of course, if the lines intersect, the smallest distance is 0, and the closest points are both at the intersection point. Similarly, if the lines are parallel, there are no \"closest points\", as for every pair of points a distance $d$ away from eachother, there exists another pair of points, also a distance $d$ from eachother, which can be found by translating our first pair along the direction of the lines.\n",
    "\n",
    "Why might we care? Well, if curiosity over how to solve such a seemingly simple problem is not enough, there are a few uses. In game physics, it is common to simulate \"capsules\", which are pill like shapes defined by two points and a radius. The capsule is all points within a radius-length of the two points or the line segment connecting them:"
   ]
  },
  {
   "cell_type": "code",
   "execution_count": 1,
   "id": "fitted-correction",
   "metadata": {
    "tags": [
     "remove"
    ]
   },
   "outputs": [],
   "source": [
    "import numpy as np\n",
    "import matplotlib.pyplot as plt"
   ]
  },
  {
   "cell_type": "code",
   "execution_count": 2,
   "id": "silver-newark",
   "metadata": {
    "tags": [
     "remove_input"
    ]
   },
   "outputs": [
    {
     "data": {
      "image/png": "[encoded data removed]",
      "text/plain": [
       "<Figure size 432x288 with 1 Axes>"
      ]
     },
     "metadata": {
      "needs_background": "light"
     },
     "output_type": "display_data"
    }
   ],
   "source": [
    "s1 = np.array([2.0, 2.0])\n",
    "s2 = np.array([5.0, 2.0])\n",
    "\n",
    "r = 1.0\n",
    "\n",
    "points = 30\n",
    "\n",
    "theta = np.linspace(-np.pi/2, np.pi/2, points)\n",
    "circle = lambda c, r, th: np.array([c[0] + r*np.cos(th), c[1] + r*np.sin(th)])\n",
    "right_arc = circle(s2, r, theta)\n",
    "left_arc = circle(s1, r, theta + np.pi)\n",
    "\n",
    "# Plotting points s1 and s2 and connecting segment\n",
    "plt.plot(s1[0], s1[1], 'o', color='k')\n",
    "plt.annotate('s1', s1 + [.1, .1])\n",
    "plt.plot(s2[0], s2[1], 'o', color='k')\n",
    "plt.annotate('s2', s2 + [.1, .1])\n",
    "plt.plot([s1[0], s2[0]], [s1[1], s2[1]], '--', color='k')\n",
    "\n",
    "# Ploting right and left arcs\n",
    "plt.plot(right_arc[0], right_arc[1], color='k')\n",
    "plt.plot(left_arc[0], left_arc[1], color='k')\n",
    "plt.plot([left_arc[0][0], right_arc[0][-1]], [left_arc[1][0], right_arc[1][-1]], color='k')\n",
    "plt.plot([left_arc[0][-1], right_arc[0][0]], [left_arc[1][-1], right_arc[1][0]], color='k')\n",
    "\n",
    "# Plotting arc-radius label\n",
    "left_arc_pt = left_arc[:, points//4]\n",
    "plt.plot([s1[0], left_arc_pt[0]], [s1[0], left_arc_pt[1]], ':', color='k')\n",
    "plt.annotate('r', .5*(s1 + left_arc_pt) + [.05, .05])\n",
    "\n",
    "# Plotting segment-radius label\n",
    "mid_s = .5 * (s1 + s2)\n",
    "plt.plot([mid_s[0], mid_s[0]], [mid_s[1], mid_s[1] - r], ':', color='k')\n",
    "plt.annotate('r', mid_s + [.05, -r/2])\n",
    "\n",
    "plt.axis('equal')\n",
    "plt.axis('off')\n",
    "\n",
    "plt.title('An example of a capsule')\n",
    "\n",
    "plt.show()"
   ]
  },
  {
   "cell_type": "markdown",
   "id": "polished-columbus",
   "metadata": {},
   "source": [
    "If two such capsules collided, we'd like to know the point of contact so that we can provide the appropriate torques and forces to the objects so that they'll bounce off eachother appropriately. Even to detect the collision itself, we'd need to know the distance (in the same sense as above) between the two capsules and compare it to their radii.\n",
    "\n",
    "A second scenario in which we might be interested in knowing the points of closest contact is if we'd like to calculate the intersection point between two lines.\n",
    "\n",
    "Ordinarily, this would not be difficult, as if our two lines were represented by the sets\n",
    "$\\{a + \\lambda_a\\alpha: \\lambda_a\\in\\mathbb{R}\\}$ and $\\{b + \\lambda_b\\beta: \\lambda_b\\in\\mathbb{R}\\}$ where $a,\\alpha,b,\\beta\\in\\mathbb{R}$, and $\\alpha$ and $\\beta$ are linearly independent (so that the lines are not parallel) ($a$ and $b$ are points on the lines and $\\alpha$ and $\\beta$ represent the directions of the lines). It would then just be a matter of solving a system of equations to find for what values of $\\lambda_a$ and $\\lambda_b$ does\n",
    "\n",
    "$$a + \\lambda_a\\alpha = b + \\lambda_b\\beta,$$\n",
    "which can be rewritten as\n",
    "$$a - b = -\\lambda_a\\alpha + \\lambda_b\\beta,$$\n",
    "or\n",
    "\n",
    "$$\\left[\\begin{matrix}\n",
    "-\\alpha_1 & \\beta_1\\\\\n",
    "-\\alpha_2 & \\beta_2\\\\\n",
    "-\\alpha_3 & \\beta_3\n",
    "\\end{matrix}\\right]\n",
    "\\left[\\begin{matrix}\n",
    "\\lambda_a\\\\\n",
    "\\lambda_b\n",
    "\\end{matrix}\\right]\n",
    "=\n",
    "\\left[\\begin{matrix}\n",
    "a_1 - b_2\\\\\n",
    "a_2 - b_2\\\\\n",
    "a_3 - b_3\n",
    "\\end{matrix}\\right].$$\n",
    "\n",
    "We can just solve this using a usual method, as we know a solution exists because that was our initial assumption, and since $\\alpha$ and $\\beta$ are linearly independent, we know that the solution will be unique.\n",
    "\n",
    "There's a clear problem, however. What if we have a slight error in our values for the lines, i.e., in $a$, $b$, $\\alpha$, or $\\beta$? Then the system of equations above won't always be solvable! But this is where being able to find the closest points would come in handy. If we can't find the pair of points from each line whose distance from eachother is zero, then surely the pair of points whose distance from eachother is minimal is the next best thing. We could use the average of those two points are our \"approximate intersection\" point.\n",
    "\n",
    "Without further ado, I'll introduce the solution for calculating these points."
   ]
  },
  {
   "cell_type": "markdown",
   "id": "piano-dallas",
   "metadata": {},
   "source": [
    "### Function for calculating the approximate intersection of two lines"
   ]
  },
  {
   "cell_type": "markdown",
   "id": "front-ghost",
   "metadata": {},
   "source": [
    "I use numpy for a lot of my math here:"
   ]
  },
  {
   "cell_type": "code",
   "execution_count": 3,
   "id": "surrounded-blood",
   "metadata": {},
   "outputs": [],
   "source": [
    "import numpy as np"
   ]
  },
  {
   "cell_type": "markdown",
   "id": "portable-rolling",
   "metadata": {},
   "source": [
    "A helper function for calulating the component of a vector orthogonal to a unit vector:"
   ]
  },
  {
   "cell_type": "code",
   "execution_count": 4,
   "id": "developmental-capital",
   "metadata": {},
   "outputs": [],
   "source": [
    "# returns the component of vector v orthogonal to unit vector u\n",
    "# Precondition: |u| = 1\n",
    "def ortho_comp(v, u):\n",
    "    return v - np.dot(v, u) * u"
   ]
  },
  {
   "cell_type": "markdown",
   "id": "buried-jamaica",
   "metadata": {},
   "source": [
    "An illustration of the action of `ortho_comp`:"
   ]
  },
  {
   "cell_type": "code",
   "execution_count": 5,
   "id": "affected-rebecca",
   "metadata": {},
   "outputs": [
    {
     "name": "stdout",
     "output_type": "stream",
     "text": [
      "[0 1 1]\n"
     ]
    }
   ],
   "source": [
    "v = np.array([1, 1, 1])\n",
    "u = np.array([1, 0, 0])\n",
    "print(ortho_comp(v, u))"
   ]
  },
  {
   "cell_type": "code",
   "execution_count": 6,
   "id": "american-musician",
   "metadata": {},
   "outputs": [],
   "source": [
    "# a is a pair of points, representing the line passing through a[0] and a[1]\n",
    "# b is a pair of points, representing the line passing through b[0] and b[1]\n",
    "# Returns the point on line a closest to line b, and the point on line b cloest\n",
    "# to line a.\n",
    "# Throws ValueError if a and b represent parallel lines (including if either is 0)\n",
    "def closest_points(a, b):\n",
    "    a_line = (a[1] - a[0]) # a vector pointing from a[0] to a[1]\n",
    "    b_unit = (b[1] - b[0]) / np.linalg.norm(b[1] - b[0]) # unit vector pointing from b[0] to b[1]\n",
    "\n",
    "    a_ortho_b = ortho_comp(a_line, b_unit)\n",
    "    a_ortho_b_squared = np.dot(a_ortho_b, a_ortho_b)\n",
    "    if a_ortho_b_squared == 0:\n",
    "        raise ValueError(\"inputs must not represent parallel lines\")\n",
    "    closest_a = a[0] - np.dot(a_ortho_b, ortho_comp(a[0] - b[0], b_unit)) / a_ortho_b_squared * a_line\n",
    "    closest_b = b[0] + np.dot(closest_a - b[0], b_unit) * b_unit\n",
    "    return closest_a, closest_b"
   ]
  },
  {
   "cell_type": "markdown",
   "id": "industrial-round",
   "metadata": {},
   "source": [
    "A quick comment on the fact that it raises a `ValueError` exception if the lines are parallel. At a pragmatic level, something special needs to be done when the lines are parallel as otherwise we'd end up dividing by zero. At the same time, the closest points are not well defined if the lines are parallel, as in that case there are infinitely many of them, so it doesn't seem to me that the function *should* try to come up with a single answer. So I thought it made the most sense to return either an option type or raise an error. Since this isn't being implemented in anything, there didn't seem to be an obvious reason to choose one over the other, and I thought raising an error would appear more straight forward.\n",
    "\n",
    "#### Why it works\n",
    "\n",
    "Regardless, I don't think it's obvious why the above function implementation should return what I say it does, so I'll explain a bit.\n",
    "\n",
    "First, suppose we have a point $p$ and the line $\\{b + \\lambda\\beta : \\lambda \\in \\mathbb{R}\\}$. The point on the line closest to $p$ is the point for which $\\frac{d}{d\\lambda}|p - b - \\lambda\\beta| = 0$. Though the math will be easier if we instead examine the norm squared, so I'll do that instead:\n",
    "\n",
    "\\begin{align*}\n",
    "\\frac{d}{d\\lambda}|p - b - \\lambda\\beta|^2\n",
    "&= 2(p - b - \\lambda\\beta) \\cdot (-\\beta)\\\\\n",
    "&= -2((p - b)\\cdot\\beta - \\lambda|\\beta|^2)\n",
    "\\end{align*}\n",
    "\n",
    "which equals zero when\n",
    "\n",
    "$$\\lambda = \\frac{(p-b)\\cdot\\beta}{|\\beta|^2},$$\n",
    "\n",
    "meaning the closest point, $c$, on the line to point $p$ is\n",
    "\n",
    "$$c = b + \\lambda\\beta = b + \\frac{(p-b)\\cdot\\beta}{|\\beta|^2}\\beta.$$\n",
    "\n",
    "This expression is a bit simplified if we require that $\\beta$ be normalized, so I'll assume that going forward.\n",
    "\n",
    "Now, if instead of $p$ being a fixed point, it is instead on the line $\\{a + \\lambda\\alpha : \\lambda \\in \\mathbb{R}\\}$, we still have that the closest point on the $b$ line to $a + \\lambda\\alpha$ is $b + (a + \\lambda\\alpha - b)\\cdot\\beta\\beta$. Thus, we can ask which point on the $a$ line is closest to any point on the $b$ line by finding the $\\lambda$ for which\n",
    "\n",
    "\\begin{align*}\n",
    "0 &= \\frac{d}{d\\lambda}|(a + \\lambda\\alpha) - (b + (a + \\lambda\\alpha - b)\\cdot\\beta\\beta)|^2\\\\\n",
    "&= 2((a + \\lambda\\alpha) - (b + (a + \\lambda\\alpha - b)\\cdot\\beta\\beta))\\cdot(\\alpha - \\alpha\\cdot\\beta\\beta)\\\\\n",
    "&= 2((a-b) - (a-b)\\cdot\\beta\\beta + \\lambda(\\alpha - \\alpha\\cdot\\beta\\beta))\\cdot(\\alpha-\\alpha\\cdot\\beta\\beta)\n",
    "\\end{align*}\n",
    "\n",
    "which is satisfied (provided $\\alpha$ and $\\beta$ are not parallel) when\n",
    "\n",
    "$$\\lambda = -\\frac{[(a-b) - (a-b)\\cdot\\beta\\beta]\\cdot[\\alpha-\\alpha\\cdot\\beta\\beta]}{|\\alpha-\\alpha\\cdot\\beta\\beta|^2}$$\n",
    "\n",
    "meaning the point on line $a$ closest to any point on line $b$ is the point\n",
    "\n",
    "$$closest\\_of\\_a = a - \\frac{[(a-b) - (a-b)\\cdot\\beta\\beta]\\cdot[\\alpha-\\alpha\\cdot\\beta\\beta]}{|\\alpha-\\alpha\\cdot\\beta\\beta|^2}\\alpha.$$\n",
    "\n",
    "The point on line $b$ closest to any point on line $a$, then is of course the point on $b$ that $closest\\_of\\_a$ is closest too:\n",
    "\n",
    "$$closest\\_of\\_b = b + (closest\\_of\\_a - b)\\cdot\\beta\\beta.$$\n",
    "\n",
    "`closest_points(a, b)` is just these formulae rewritten in Python more or less."
   ]
  },
  {
   "cell_type": "markdown",
   "id": "electric-rebound",
   "metadata": {},
   "source": [
    "#### Proving solution has unique property easy to test for\n",
    "\n",
    "Of course, even if the math checks out, it's important to write some tests to make sure the python function faithfully represents the math, and to make sure that we don't break the code in the future if we make a modification.\n",
    "\n",
    "Now, we could come up with a few examples worked out by hand, but that sounds tedious, and there's a nifty property this solution has. Namely, the line connecting $closest\\_of\\_a$ to $closest\\_of\\_b$ is perpindicular to both $\\alpha$ and $\\beta$. The fact that it is pependicular to $\\beta$ is easier to see, as $closest\\_of\\_a - closest\\_of\\_b$ is of the form $p - b - (p-b)\\cdot\\beta\\beta$ (with $|\\beta|^2 = 1$), and\n",
    "\n",
    "$$\\beta\\cdot(p - b - (p-b)\\cdot\\beta\\beta) = \\beta \\cdot (p-b) - (p-b) \\cdot \\beta = 0.$$\n",
    "\n",
    "To see that it is perpindicular to $\\alpha$, it helps to expand our our expression for $\\lambda$ a bit:\n",
    "\n",
    "\\begin{align*}\n",
    "\\lambda &= -\\frac{[(a-b) - (a-b)\\cdot\\beta\\beta]\\cdot[\\alpha-\\alpha\\cdot\\beta\\beta]}{|\\alpha-\\alpha\\cdot\\beta\\beta|^2}\\\\\n",
    "&= \\frac{(a-b)\\cdot\\alpha - (a-b)\\cdot\\beta\\beta\\cdot\\alpha - (a-b)\\cdot\\beta\\alpha\\cdot\\beta + (a-b)\\cdot\\beta}{|\\alpha|^2 - 2(\\alpha\\cdot\\beta)^2 + (\\alpha\\cdot\\beta)^2}\\\\\n",
    "&=\\frac{(a-b)\\cdot\\alpha - (\\alpha\\cdot\\beta)(a-b)\\cdot\\beta}{|\\alpha|^2 - (\\alpha\\cdot\\beta)^2}\n",
    "\\end{align*}\n",
    "\n",
    "Now, since $closest\\_of\\_a - closest\\_of\\_b = a + \\lambda\\alpha - (b + (a + \\lambda\\alpha - b)\\cdot\\beta\\beta)$, the dot product with $\\alpha$ is\n",
    "\n",
    "\\begin{align*}\n",
    "\\alpha\\cdot(a + \\lambda\\alpha - (b + (a + \\lambda\\alpha - b)\\cdot\\beta\\beta))\n",
    "&=\\alpha\\cdot((a-b) - (a-b)\\cdot\\beta\\beta + \\lambda(\\alpha - \\alpha\\cdot\\beta\\beta))\\\\\n",
    "&=(a-b)\\cdot\\alpha - (a-b)\\cdot\\beta\\alpha\\cdot\\beta + \\lambda(|\\alpha|^2 - (\\alpha\\cdot\\beta)^2)\\\\\n",
    "&=0\n",
    "\\end{align*}\n",
    "\n",
    "where the last line follows from simply plugging in our simplified value for $\\lambda$ and canceling out terms.\n",
    "\n",
    "Anyway, we thus see that the line connecting our solution pair has the property that it is orthogonal to both $\\alpha$ and $\\beta$. It turns out it is the unique such solution (provided $\\alpha$ and $\\beta$ are not perpindicular of course). To see this, note that any two arbitrary points on each line are of the form $a + \\lambda_a\\alpha$ and $b + \\lambda_b\\beta$. If both\n",
    "\n",
    "\\begin{align*}\n",
    "&0 = \\alpha\\cdot(a + \\lambda_a\\alpha - b - \\lambda_b\\beta) = \\lambda_a|\\alpha|^2 - \\lambda_b\\alpha\\cdot\\beta - \\alpha\\cdot(b - a)\\\\\n",
    "&0 = \\beta\\cdot(a + \\lambda_a\\alpha - b - \\lambda_b\\beta) = \\lambda_a\\alpha\\cdot\\beta - \\lambda_b|\\beta|^2 - \\beta\\cdot(b - a)\n",
    "\\end{align*}\n",
    "\n",
    "then we can rewrite this as the matrix equation\n",
    "\n",
    "$$\\left[\\begin{matrix}|\\alpha|^2 & -\\alpha\\cdot\\beta \\\\ \\alpha\\cdot\\beta & -|\\beta|^2\\end{matrix}\\right]\n",
    "\\left[\\begin{matrix}\\lambda_a \\\\ \\lambda_b\\end{matrix}\\right]\n",
    "=\\left[\\begin{matrix}\\alpha\\cdot(b-a) \\\\ \\beta\\cdot(b-a)\\end{matrix}\\right]$$\n",
    "\n",
    "Now, since the determinant of the matrix is just $-|\\alpha|^2|\\beta|^2 + (\\alpha\\cdot\\beta)^2$ which is negative (i.e., non-zero) so long as neither $\\alpha$ nor $\\beta$ is zero and they aren't parallel to each other. Hence, the matrix is invertible, and the pair of points on the lines whose connecting vector is orthogonal to both lines is unique.\n",
    "\n",
    "Recall, the whole reason we are asking this is because we wanted to test the output of `closest_points(a, b)`. We can thus test to see that if the vector connecting the outputs of the function is perpendicular to both `a` and `b`, as then the output must be correct."
   ]
  },
  {
   "cell_type": "markdown",
   "id": "fundamental-psychology",
   "metadata": {},
   "source": [
    "### Testing the function\n",
    "\n",
    "Below are some tests that the function does work as claimed."
   ]
  },
  {
   "cell_type": "code",
   "execution_count": 7,
   "id": "marine-answer",
   "metadata": {},
   "outputs": [],
   "source": [
    "# Returns true if the magnitude difference between a and b is less than error\n",
    "def float_equal(a, b, error):\n",
    "    return abs(a - b) < error"
   ]
  },
  {
   "cell_type": "code",
   "execution_count": 8,
   "id": "white-gossip",
   "metadata": {},
   "outputs": [],
   "source": [
    "# returns true if v1 and v2 are orthogonal\n",
    "def test_orthogonal(v1, v2, error):\n",
    "    return float_equal(np.dot(v1, v2), 0, error)"
   ]
  },
  {
   "cell_type": "code",
   "execution_count": 9,
   "id": "educational-wireless",
   "metadata": {},
   "outputs": [],
   "source": [
    "# Performs a check on the output of closest_points. Should return true\n",
    "# (specifically, that the line connecting the closest points of a and b is\n",
    "# orthogonal to both)\n",
    "# Precondition: a and b are not parallel\n",
    "def verify_closest(a, b):\n",
    "    ap, bp = closest_points(a, b)\n",
    "    error = 1e-15\n",
    "    \n",
    "    perp_to_a = test_orthogonal(bp - ap, a[1] - a[0], error)\n",
    "    perp_to_b = test_orthogonal(ap - bp, b[1] - b[0], error)\n",
    "    return perp_to_a and perp_to_b"
   ]
  },
  {
   "cell_type": "code",
   "execution_count": 10,
   "id": "editorial-approach",
   "metadata": {},
   "outputs": [],
   "source": [
    "# Returns a random non-zero vector\n",
    "def random_nonzero():\n",
    "    # Maps a float from the interval [0, 1) to the union [-.5, 0)U(0, .5]\n",
    "    nonzeroify = np.vectorize(lambda x: x - .5 if x < .5 else 1 - x)\n",
    "    return nonzeroify(np.random.rand(3))"
   ]
  },
  {
   "cell_type": "code",
   "execution_count": 11,
   "id": "sunset-woman",
   "metadata": {},
   "outputs": [],
   "source": [
    "def random_closest_points_input():\n",
    "    a = random_nonzero()\n",
    "    b = random_nonzero()\n",
    "    alpha = random_nonzero()\n",
    "    beta = alpha + random_nonzero()\n",
    "    return (a, a + alpha), (b, b + beta)"
   ]
  },
  {
   "cell_type": "code",
   "execution_count": 12,
   "id": "coastal-entrance",
   "metadata": {},
   "outputs": [
    {
     "name": "stdout",
     "output_type": "stream",
     "text": [
      "Error was correctly raised\n",
      "True\n",
      "True\n",
      "True\n",
      "True\n",
      "True\n",
      "True\n",
      "True\n",
      "True\n",
      "True\n",
      "True\n"
     ]
    }
   ],
   "source": [
    "# Setting the random seed for reproducibility\n",
    "np.random.seed(2021)\n",
    "\n",
    "a, _ = random_closest_points_input()\n",
    "try:\n",
    "    closest_points(a, a)\n",
    "    print(\"No error was thrown (which is wrong)\")\n",
    "except ValueError:\n",
    "    print(\"Error was correctly raised\")\n",
    "except Exception as e:\n",
    "    print(\"Wrong error was thrown:\")\n",
    "    print(e)\n",
    "\n",
    "for n in range(0, 10):\n",
    "    a, b = random_closest_points_input()\n",
    "    print(verify_closest(a, b))"
   ]
  },
  {
   "cell_type": "markdown",
   "id": "sunset-poker",
   "metadata": {},
   "source": [
    "### A Final Comment on Collidimng Capsules\n",
    "\n",
    "Simply because I mentioned it as a reason for why we might be interested in calculating the closest points between lines, I'd like to elaborate a bit on how we might adapt what we've written for collision detection for capsules.\n",
    "\n",
    "Namely, on it's own, our implimentation of `closest_points` isn't sufficient to handle the problem of capsules, as the output closest points may not lie on the capsule segements, and there isn't a simple rule to convert the output we get to the correct answer for capsules.\n",
    "\n",
    "#### Explanation of strategy\n",
    "\n",
    "To make things clear, suppose we have two capsules with central segments\n",
    "\n",
    "`A = (a0, a1)` and `B = (b0, b1)`.\n",
    "\n",
    "If we let $a = \\texttt{a0}$, $\\alpha = \\texttt{a1} - \\texttt{a0}$, $b = \\texttt{b0}$, $\\beta = \\texttt{b1} - \\texttt{b0}$, then the points on segment `A` are $\\{a + \\lambda\\alpha | \\lambda\\in[0, 1]\\}$ and the points on segment `B` are `A` are $\\{b + \\lambda\\beta | \\lambda\\in[0, 1]\\}$. The problem then becomes to minimize\n",
    "\n",
    "$$f(\\lambda_a, \\lambda_b) = |(a + \\lambda_a\\alpha) - (b + \\lambda_b\\beta)|^2$$\n",
    "\n",
    "on $\\begin{bmatrix} \\lambda_a\\\\ \\lambda_b\\end{bmatrix} \\in [0, 1]^2$. Now, since $f$ is quadratic, if $\\alpha\\cdot\\beta\\neq0$ $f$ will have a unique global minima as we saw, but it might not satisfy our constraints. So, we find the global minimum and check if it's in the square $[0, 1]^2$. If it is, it's our answer. If not, we need to find the minimimum on the boundary of $[0, 1]^2$, where at least one of $\\lambda_a$ or $\\lambda_b$ equals $0$ or $1$.\n",
    "\n",
    "To do this, we calculate calculate where the minimum of $f$ occurs on the four sides, then pick the smallest of the 4 minima.\n",
    "\n",
    "To calculate the minimum on a side, we kind of do the same process just described. Calculate the minimum on the entire line $\\lambda_a, \\lambda_b = 0, 1$, check if it satisfies the constraints, keep it if it does, and calculate the minima on the boundary if it doesn't."
   ]
  },
  {
   "cell_type": "markdown",
   "id": "automated-carter",
   "metadata": {},
   "source": [
    "#### The Implementation\n",
    "\n",
    "First, we have helper function to help us determine whether the point on the line passing through a segment closest to an external point is lies on the segment itself or not:"
   ]
  },
  {
   "cell_type": "code",
   "execution_count": 13,
   "id": "precise-punch",
   "metadata": {},
   "outputs": [],
   "source": [
    "import enum\n",
    "\n",
    "class Positioning(enum.Enum):\n",
    "    Side0 = -1\n",
    "    Middle = 0\n",
    "    Side1 = 1\n",
    "\n",
    "# line is a pair representing the line passing between line[0] and line[1]\n",
    "# If plane_0 is a plane passing through line[0] to which line is perpindicular, and\n",
    "# plane_1 is a plane passing through line[1] to which line is perpindicular, then\n",
    "# returns Positioning.Side0 if point is on the opposite side of plane_0 to line[1],\n",
    "# returns Positioning.Middle if point is between plane_0 and plane_1\n",
    "# returns Positioning.Side1 if point is on the opposite side of plane 1 to line[0]\n",
    "# Edge cases: returns Side0 if point is on plane_0\n",
    "#             returns side1 if point is one plane_1\n",
    "#\n",
    "#                plane_0                plane_1\n",
    "#    Side0          |      Middle         |   Side1\n",
    "#                   |                     | \n",
    "#   . (point)       . (line[0])           . (line[1])\n",
    "#                   |                     |\n",
    "#                   |                     |\n",
    "def relative_loc(line, point):\n",
    "    line_vec = np.array(line[1]) - np.array(line[0])\n",
    "    point_vec = np.array(point) - np.array(line[0])\n",
    "    p_dot_l = np.dot(point_vec, line_vec)\n",
    "    if p_dot_l <= 0:\n",
    "        return Positioning.Side0\n",
    "    if p_dot_l < np.dot(line_vec, line_vec):\n",
    "        return Positioning.Middle\n",
    "    return Positioning.Side1"
   ]
  },
  {
   "cell_type": "markdown",
   "id": "satellite-quebec",
   "metadata": {},
   "source": [
    "We use this to calculate the closest point on the segment (if not the whole line) to the external point:"
   ]
  },
  {
   "cell_type": "code",
   "execution_count": 14,
   "id": "antique-velvet",
   "metadata": {},
   "outputs": [],
   "source": [
    "# Returns the closest point on the line passing through\n",
    "# points segment[0] and segment[1] to point point\n",
    "# Precondition: segment[0] and segment[1] are two distinct points\n",
    "# segment[0] and segment[1] are numpy arrays\n",
    "def closest_on_segment(segment, point):\n",
    "    segment_vec = segment[1] - segment[0]\n",
    "    line_min = segment[0] + np.dot(point - segment[0], segment_vec)/np.dot(segment_vec, segment_vec)*segment_vec\n",
    "    \n",
    "    location = relative_loc(segment, line_min)\n",
    "    if location == Positioning.Side0:\n",
    "        return segment[0]\n",
    "    if location == Positioning.Middle:\n",
    "        return line_min\n",
    "    return segment[1]"
   ]
  },
  {
   "cell_type": "markdown",
   "id": "naval-burlington",
   "metadata": {},
   "source": [
    "Here is the class I'll use to represent a capsule, along with a utility function for calculating the distance squared"
   ]
  },
  {
   "cell_type": "code",
   "execution_count": 15,
   "id": "bright-instrument",
   "metadata": {},
   "outputs": [],
   "source": [
    "class Capsule:\n",
    "    def __init__(self, segment, radius):\n",
    "        # segment is a pair of points\n",
    "        self.segment = np.array(segment)\n",
    "        self.radius = radius\n",
    "\n",
    "# Returns the distance squared between two same sized numpy vectors\n",
    "def distance_squared(point1, point2):\n",
    "    difference = point2 - point1\n",
    "    return np.dot(difference, difference)"
   ]
  },
  {
   "cell_type": "markdown",
   "id": "controversial-librarian",
   "metadata": {},
   "source": [
    "Here, we calculate the contact points which, in this case, are just the points on each segment closest to the other, for the case where `capsule_a` and `capsule_b` are not-parallel.\n",
    "\n",
    "The action is relatively simple. Thought of in terms of for what $\\lambda_a$ and $\\lambda_b$ need to be to minimize the distance between $a + \\lambda_a\\alpha$ and $b + \\lambda_b\\beta$, we first find the minimum, regardless of whether the minimum points lie on the segments (i.e., $\\lambda_a, \\lambda_b\\in[0, 1]$), and check if they actually lie on the segments. If they do, we return that answer.\n",
    "\n",
    "If not, we then calculate the minimum for $\\begin{bmatrix}\\lambda_a\\\\ \\lambda_b\\end{bmatrix}$ on the boundy of $[0, 1]^2$, i.e., the minimum for when at least one of our points is on the endpoint of it's segment, and return that instead."
   ]
  },
  {
   "cell_type": "code",
   "execution_count": 16,
   "id": "hollywood-wedding",
   "metadata": {},
   "outputs": [],
   "source": [
    "# Returns the a points on the segments of capsule_a and capsule_b closest\n",
    "# to eachother.\n",
    "#\n",
    "# For example, if\n",
    "# capsule_a.segment = [[-1, 0, 1], [1, 0, 1]] and\n",
    "# capsule_b.segment = [[0, -1, 0], [0, 1, 0]], each with radius 1, then returns\n",
    "# ([0, 0, 1], [0, 0, 0])\n",
    "# Throws ValueException if capsule_a and capsule_b are parallel\n",
    "def contact_points_not_parallel(capsule_a, capsule_b):\n",
    "    global_closest_a, global_closest_b = closest_points(capsule_a.segment, capsule_b.segment)\n",
    "    \n",
    "    if relative_loc(capsule_a.segment, global_closest_a) == Positioning.Middle \\\n",
    "    and relative_loc(capsule_b.segment, global_closest_b) == Positioning.Middle:\n",
    "        return global_closest_a, global_closest_b\n",
    "    \n",
    "    boundary_mins = []\n",
    "    for i in [0, 1]:\n",
    "        boundary_mins.append((capsule_a.segment[i], closest_on_segment(capsule_b.segment, capsule_a.segment[i])))\n",
    "        boundary_mins.append((capsule_b.segment[i], closest_on_segment(capsule_a.segment, capsule_b.segment[i])))\n",
    "    \n",
    "    return min(boundary_mins, key=lambda x: distance_squared(x[0], x[1]))"
   ]
  },
  {
   "cell_type": "markdown",
   "id": "serial-breach",
   "metadata": {},
   "source": [
    "We still need to handle the case where the two capsules have parallel segments. This needs to be handles sperately for a couple reasons. First, our algorithm simply doesn't work when the capsules are parallel. But more deeply, the question we are asking isn't actually that well formed in the case when the capsules are parallel.\n",
    "\n",
    "This is because the \"closest pair of points\" of two lines aren't, in general, unique. The problem is partially alleviated alleviated when discussing line segments instead of whole lines, as if the segments do not \"overlap\" (by which I mean, if we were to project one segment onto the line of the other, would the two segments overlap) then the points on each segment with minimum distance from eachother are unique.\n",
    "\n",
    "When there is overlap, however, we have some choice over what our contact points are. Without a very strong reason, I decided to simply choose the points on each line which were in the middle of the overlapping regions. I chose this because I thought that if we were to apply a force at the contact points, I wanted to conserve the angular momentum of the system. Secondly, if the force applied to each capsule were equal along the region of overlap and resulted in a torque, then a force applied only in the middle of the region of overlap would produce the same torque.\n",
    "\n",
    "To calculate the boundry points for the region of overlap for one segment, we project the other segment's endpoints onto the line the first segment lives on. We then truncate the projected interval so that it only includes points on our segment. That way, we know every point on the truncated interval has a corresponding point on the other segment just a projection away, and any point not on the truncated interval doesn't. To get the midpoint of this interval, of course, we simply take the average of these boundary points.\n",
    "\n",
    "Materially, this is the same as calculating the calculating the closest points on one segment to the other segment's endpoints, and then taking their average. If you need further convincing, examine the implementation of `closest_on_segment` and reference the diagrams below of the three scenarios we might find ourselves in given that the capsules are parallel.\n",
    "\n",
    "One benefit of this approach is that it works regardless of whether there is any overlap at all, as if not, the closest points on a segment to the other segment's endpoints will be the same point, which is simply the closest point."
   ]
  },
  {
   "cell_type": "code",
   "execution_count": 17,
   "id": "hungry-blanket",
   "metadata": {
    "tags": [
     "remove_input"
    ]
   },
   "outputs": [
    {
     "data": {
      "image/png": "[encoded data removed]",
      "text/plain": [
       "<Figure size 432x288 with 3 Axes>"
      ]
     },
     "metadata": {
      "needs_background": "light"
     },
     "output_type": "display_data"
    }
   ],
   "source": [
    "fig, ax = plt.subplots(3, 1)\n",
    "\n",
    "fig.tight_layout(h_pad=2)\n",
    "\n",
    "ax[0].plot([0, 2.5], [1, 1], color='k')\n",
    "ax[0].plot([1.5, 3], [0, 0], color='k')\n",
    "ax[0].plot([2.5, 2.5], [1, 0], ':', color='k')\n",
    "ax[0].plot([1.5, 1.5], [1, 0], ':', color='k')\n",
    "ax[0].plot(2, 1, 'o', color='k')\n",
    "ax[0].plot(2, 0, 'o', color='k')\n",
    "ax[0].set_ylim([-.1, 1.1])\n",
    "ax[0].set_xlim([-.1, 3.1])\n",
    "ax[0].set_aspect('equal', adjustable='box')\n",
    "ax[0].axis('off')\n",
    "ax[0].set_title('Partial Overlap')\n",
    "\n",
    "ax[1].plot([0, 1], [1, 1], color='k')\n",
    "ax[1].plot([2, 3], [0, 0], color='k')\n",
    "#ax[1].plot([1, 1], [1, 0], ':', color='k')\n",
    "#ax[1].plot([2, 2], [1, 0], ':', color='k')\n",
    "ax[1].plot(1, 1, 'o', color='k')\n",
    "ax[1].plot(2, 0, 'o', color='k')\n",
    "ax[1].set_ylim([-.1, 1.1])\n",
    "ax[1].set_xlim([-.1, 3.1])\n",
    "ax[1].set_aspect('equal', adjustable='box')\n",
    "ax[1].axis('off')\n",
    "ax[1].set_title('No Overlap')\n",
    "\n",
    "ax[2].plot([.5, 1.5], [1, 1], color='k')\n",
    "ax[2].plot([0, 3], [0, 0], color='k')\n",
    "ax[2].plot([.5, .5], [1, 0], ':', color='k')\n",
    "ax[2].plot([1.5, 1.5], [1, 0], ':', color='k')\n",
    "ax[2].plot(1, 1, 'o', color='k')\n",
    "ax[2].plot(1, 0, 'o', color='k')\n",
    "ax[2].set_ylim([-.1, 1.1])\n",
    "ax[2].set_xlim([-.1, 3.1])\n",
    "ax[2].set_aspect('equal', adjustable='box')\n",
    "ax[2].axis('off')\n",
    "ax[2].set_title('Complete Envelopment')\n",
    "\n",
    "plt.show()"
   ]
  },
  {
   "cell_type": "markdown",
   "id": "contrary-polls",
   "metadata": {},
   "source": [
    "Consequently, the calculation for when the segments are parallel is quite simple:"
   ]
  },
  {
   "cell_type": "code",
   "execution_count": 18,
   "id": "junior-tractor",
   "metadata": {},
   "outputs": [],
   "source": [
    "# Returns the midpoint of the set of points on the capsule's segment whose\n",
    "# smallest distance to the other capsule's segment is minimal\n",
    "def contact_points_parallel(capsule_a, capsule_b):\n",
    "    contact_a = .5 * (closest_on_segment(capsule_a.segment, capsule_b.segment[0]) \\\n",
    "                      + closest_on_segment(capsule_a.segment, capsule_b.segment[1]))\n",
    "    contact_b = .5 * (closest_on_segment(capsule_b.segment, capsule_a.segment[0]) \\\n",
    "                      + closest_on_segment(capsule_b.segment, capsule_a.segment[1]))\n",
    "    return contact_a, contact_b"
   ]
  },
  {
   "cell_type": "markdown",
   "id": "facial-expansion",
   "metadata": {},
   "source": [
    "The final implementation then is to try to use the non-parallel method. If it throws a ValueError, then it must be the case that the segments are parallel, in which case we use that method instead. We then check that the distance between the contact points (whose distance from eachother is the minimum of the distance between the between the segments) is less than the sum of the radii. If it is less, that there must be overlap between the two segments. If not, then there is no overlap, and we return None to signify this fact."
   ]
  },
  {
   "cell_type": "code",
   "execution_count": 19,
   "id": "apparent-million",
   "metadata": {},
   "outputs": [],
   "source": [
    "# If the capsules overlap, return the points on each capsule's central segment\n",
    "# closest to the other capsule's central segment.\n",
    "# Otherwise, return None\n",
    "def contact_points(capsule_a, capsule_b):\n",
    "    try:\n",
    "        contact_a, contact_b = contact_points_not_parallel(capsule_a, capsule_b)\n",
    "    except ValueError:\n",
    "        contact_a, contact_b = contact_points_parallel(capsule_a, capsule_b)\n",
    "    \n",
    "    if distance_squared(contact_a, contact_b) < (contact_a.radius + contact_b.radius)**2:\n",
    "        return contact_a, contact_b\n",
    "    return None"
   ]
  }
 ],
 "metadata": {
  "celltoolbar": "Tags",
  "kernelspec": {
   "display_name": "Python 3",
   "language": "python",
   "name": "python3"
  },
  "language_info": {
   "codemirror_mode": {
    "name": "ipython",
    "version": 3
   },
   "file_extension": ".py",
   "mimetype": "text/x-python",
   "name": "python",
   "nbconvert_exporter": "python",
   "pygments_lexer": "ipython3",
   "version": "3.8.5"
  }
 },
 "nbformat": 4,
 "nbformat_minor": 5
}
